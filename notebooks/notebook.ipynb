{
 "cells": [
  {
   "cell_type": "code",
   "execution_count": 77,
   "metadata": {},
   "outputs": [],
   "source": [
    "import pandas as pd\n",
    "from sklearn.linear_model import LinearRegression\n",
    "from xgboost import XGBRegressor\n",
    "import torch\n",
    "from torch import nn\n",
    "from sklearn.model_selection import train_test_split\n",
    "import numpy as np"
   ]
  },
  {
   "cell_type": "code",
   "execution_count": 32,
   "metadata": {},
   "outputs": [],
   "source": [
    "#Baixando dados e tratando\n",
    "df = pd.read_csv('../data/insurance.csv')\n",
    "df['sex'] = df['sex'].apply(lambda x: 1 if x == 'male' else 0)\n",
    "df['smoker'] = df['smoker'].apply(lambda x: 1 if x == 'yes' else 0)\n",
    "df['region'] = df['region'].apply(lambda x: 0 if x == 'southwest' else 1 if x == 'southeast' else 2 if x == 'northwest' else 3)"
   ]
  },
  {
   "cell_type": "code",
   "execution_count": 73,
   "metadata": {},
   "outputs": [],
   "source": [
    "#Métrica de Erro\n",
    "def erro(Y_true, Y_pred,tipo):\n",
    "    erro = 0\n",
    "    if tipo == 'Linear':\n",
    "        for i in range(len(Y_true)):\n",
    "            erro += Y_true.values[i][0] - Y_pred[i][0] \n",
    "    else:\n",
    "        for i in range(len(Y_true)):\n",
    "            erro += Y_true.values[i][0] - Y_pred[i]\n",
    "    return erro"
   ]
  },
  {
   "cell_type": "code",
   "execution_count": 38,
   "metadata": {},
   "outputs": [],
   "source": [
    "#Separar em Treino e Teste\n",
    "X_train,X_test,Y_train,Y_true = train_test_split(df[['age','sex','bmi','children','smoker','region']],df[['charges']],test_size=0.2,random_state=10)"
   ]
  },
  {
   "cell_type": "code",
   "execution_count": 62,
   "metadata": {},
   "outputs": [
    {
     "name": "stdout",
     "output_type": "stream",
     "text": [
      "25528.045462810005\n"
     ]
    }
   ],
   "source": [
    "#Regressão Linear\n",
    "model = LinearRegression()\n",
    "model.fit(X_train,Y_train)\n",
    "Y_pred = model.predict(X_test)\n",
    "print(erro(Y_true,Y_pred))"
   ]
  },
  {
   "cell_type": "code",
   "execution_count": 75,
   "metadata": {},
   "outputs": [
    {
     "name": "stdout",
     "output_type": "stream",
     "text": [
      "21788.975380417527\n"
     ]
    }
   ],
   "source": [
    "#XGBoost\n",
    "model =XGBRegressor()\n",
    "model.fit(X_train,Y_train)\n",
    "Y_pred = model.predict(X_test)\n",
    "print(erro(Y_true,Y_pred,'XGBoost'))"
   ]
  },
  {
   "cell_type": "code",
   "execution_count": null,
   "metadata": {},
   "outputs": [],
   "source": [
    "#Rede Neural - Linear e Relu\n",
    "X_train = torch.tensor(X_train.values).float()\n",
    "Y_train = torch.tensor(Y_train.values).float()\n",
    "X_test = torch.tensor(X_test.values).float()\n",
    "Y_true = torch.tensor(Y_true.values).float()\n",
    "class NeuralNetwork(nn.Module):\n",
    "    def __init__(self):\n",
    "        super().__init__()\n",
    "        self.flatten = nn.Flatten()\n",
    "        self.linear_relu_stack = nn.Sequential(\n",
    "            nn.Linear(6, 36),\n",
    "            nn.ReLU(),\n",
    "            nn.Linear(36, 36),\n",
    "            nn.ReLU(),\n",
    "            nn.Linear(36, 1),\n",
    "        )\n",
    "\n",
    "    def forward(self, x):\n",
    "        return nn.Linear(x,1)\n",
    "model = NeuralNetwork()\n",
    "model.train()\n",
    "\n"
   ]
  }
 ],
 "metadata": {
  "kernelspec": {
   "display_name": "Python 3",
   "language": "python",
   "name": "python3"
  },
  "language_info": {
   "codemirror_mode": {
    "name": "ipython",
    "version": 3
   },
   "file_extension": ".py",
   "mimetype": "text/x-python",
   "name": "python",
   "nbconvert_exporter": "python",
   "pygments_lexer": "ipython3",
   "version": "3.11.9"
  }
 },
 "nbformat": 4,
 "nbformat_minor": 2
}
